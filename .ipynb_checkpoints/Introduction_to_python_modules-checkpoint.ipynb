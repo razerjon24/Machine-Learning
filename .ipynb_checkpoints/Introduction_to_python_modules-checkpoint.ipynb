{
 "cells": [
  {
   "cell_type": "markdown",
   "metadata": {},
   "source": [
    "# Introduction to main Python Modules for Data Science"
   ]
  },
  {
   "cell_type": "markdown",
   "metadata": {},
   "source": [
    "In this notebook, we will very briefly introduce, through some basic examples, the three essential python modules that you will use extensively in this course and, probably, in any data science and machine learning project:\n",
    "- `numpy` that provides a toolbox for arrays (vector, matrices, ...),\n",
    "- `pandas` that provides a very complete and powerful framework for dataframes and series,\n",
    "- `matplotlib` for different types of plots, and\n",
    "- `scikit-learn` (or `sklearn`) that provides a complete framework and toolbox for the most well-known machine learning methods.\n",
    "\n",
    "Below, you will also find the official documentation that you can refer to, to learn more about these modules, and to find exactly the method or tool you are looking for during your future exercises.\n",
    "\n",
    "Again, search engines are also a very useful tool when you will be stuck. The python community is *very* active, you will, in most cases, find a rapid answer to your \"*how to ...*\" questions!\n",
    "Discussing with other students is also highly encouraged, to help each other out and learn in groups (as long as you don't share your final answers for graded materal). And of course, don't hesitate to ask your questions to the TAs when you are stuck."
   ]
  },
  {
   "cell_type": "markdown",
   "metadata": {},
   "source": [
    "Official documentations (user guides and list of all functions, classes, methods):\n",
    "- `pandas`:\n",
    "    - User guide (tutorials): https://pandas.pydata.org/pandas-docs/stable/user_guide/index.html\n",
    "    - API reference (list of all functions and methods): https://pandas.pydata.org/pandas-docs/stable/reference/index.html\n",
    "- `scikit-learn`:\n",
    "    - User guide (tutorials): https://scikit-learn.org/stable/user_guide.html\n",
    "    - API reference (list of all functions and methods): https://scikit-learn.org/stable/modules/classes.html\n",
    "- `numpy`:\n",
    "    - API reference: https://numpy.org/devdocs/reference/index.html\n",
    "- `matplotlib`:\n",
    "    - Tutorials: https://matplotlib.org/3.3.4/tutorials/index.html"
   ]
  },
  {
   "cell_type": "markdown",
   "metadata": {},
   "source": [
    "## Arrays with `Numpy`"
   ]
  },
  {
   "cell_type": "markdown",
   "metadata": {},
   "source": [
    "### Creation, shapes and access"
   ]
  },
  {
   "cell_type": "code",
   "execution_count": 1,
   "metadata": {
    "ExecuteTime": {
     "end_time": "2022-02-23T16:30:31.176964Z",
     "start_time": "2022-02-23T16:30:31.173986Z"
    }
   },
   "outputs": [],
   "source": [
    "import numpy as np"
   ]
  },
  {
   "cell_type": "markdown",
   "metadata": {},
   "source": [
    "Numpy allows creating arrays in any dimension and with any shape:"
   ]
  },
  {
   "cell_type": "code",
   "execution_count": 2,
   "metadata": {
    "ExecuteTime": {
     "end_time": "2022-02-23T16:30:32.031885Z",
     "start_time": "2022-02-23T16:30:32.019934Z"
    }
   },
   "outputs": [
    {
     "data": {
      "text/plain": [
       "array([2.  , 5.6 , 7.23, 7.  ])"
      ]
     },
     "execution_count": 2,
     "metadata": {},
     "output_type": "execute_result"
    }
   ],
   "source": [
    "#1D array of shape (4,) (representing, for example the coordinates of a point in a 4-dimentional space)\n",
    "a1 = np.array([2.,5.6,7.23,7.])\n",
    "a1"
   ]
  },
  {
   "cell_type": "code",
   "execution_count": 3,
   "metadata": {
    "ExecuteTime": {
     "end_time": "2022-02-23T16:30:32.553343Z",
     "start_time": "2022-02-23T16:30:32.545887Z"
    }
   },
   "outputs": [
    {
     "data": {
      "text/plain": [
       "(4,)"
      ]
     },
     "execution_count": 3,
     "metadata": {},
     "output_type": "execute_result"
    }
   ],
   "source": [
    "#Shape of a1\n",
    "a1.shape"
   ]
  },
  {
   "cell_type": "code",
   "execution_count": 4,
   "metadata": {
    "ExecuteTime": {
     "end_time": "2022-02-23T16:30:32.968793Z",
     "start_time": "2022-02-23T16:30:32.959791Z"
    }
   },
   "outputs": [
    {
     "data": {
      "text/plain": [
       "7.23"
      ]
     },
     "execution_count": 4,
     "metadata": {},
     "output_type": "execute_result"
    }
   ],
   "source": [
    "#access values\n",
    "a1[2]"
   ]
  },
  {
   "cell_type": "code",
   "execution_count": 5,
   "metadata": {
    "ExecuteTime": {
     "end_time": "2022-02-23T16:30:33.444707Z",
     "start_time": "2022-02-23T16:30:33.439696Z"
    }
   },
   "outputs": [
    {
     "data": {
      "text/plain": [
       "array([5.6 , 7.23])"
      ]
     },
     "execution_count": 5,
     "metadata": {},
     "output_type": "execute_result"
    }
   ],
   "source": [
    "a1[1:3] #carefull: 1:3 returns the values indexed at 1 and 2 but NOT at 3"
   ]
  },
  {
   "cell_type": "code",
   "execution_count": 6,
   "metadata": {
    "ExecuteTime": {
     "end_time": "2022-02-23T16:30:33.769973Z",
     "start_time": "2022-02-23T16:30:33.759008Z"
    }
   },
   "outputs": [
    {
     "data": {
      "text/plain": [
       "array([[2.  , 5.6 ],\n",
       "       [7.23, 7.  ]])"
      ]
     },
     "execution_count": 6,
     "metadata": {},
     "output_type": "execute_result"
    }
   ],
   "source": [
    "#2D array, of shape (2,2) (representing, for example a 2x2 matrix)\n",
    "a2 = np.array([[2., 5.6],\n",
    "               [7.23, 7.]])\n",
    "a2"
   ]
  },
  {
   "cell_type": "code",
   "execution_count": 7,
   "metadata": {
    "ExecuteTime": {
     "end_time": "2022-02-23T16:30:34.094333Z",
     "start_time": "2022-02-23T16:30:34.083336Z"
    }
   },
   "outputs": [
    {
     "data": {
      "text/plain": [
       "(2, 2)"
      ]
     },
     "execution_count": 7,
     "metadata": {},
     "output_type": "execute_result"
    }
   ],
   "source": [
    "#Shape of a2\n",
    "a2.shape"
   ]
  },
  {
   "cell_type": "code",
   "execution_count": 8,
   "metadata": {
    "ExecuteTime": {
     "end_time": "2022-02-23T16:30:34.426961Z",
     "start_time": "2022-02-23T16:30:34.415990Z"
    }
   },
   "outputs": [
    {
     "data": {
      "text/plain": [
       "array([5.6, 7. ])"
      ]
     },
     "execution_count": 8,
     "metadata": {},
     "output_type": "execute_result"
    }
   ],
   "source": [
    "#access values\n",
    "a2[0:2, 1]"
   ]
  },
  {
   "cell_type": "markdown",
   "metadata": {},
   "source": [
    "As they contain the same data, `a2` could also have been obtained by reshaping `a1`:"
   ]
  },
  {
   "cell_type": "code",
   "execution_count": 9,
   "metadata": {
    "ExecuteTime": {
     "end_time": "2022-02-23T16:30:35.240764Z",
     "start_time": "2022-02-23T16:30:35.230767Z"
    }
   },
   "outputs": [
    {
     "data": {
      "text/plain": [
       "array([[2.  , 5.6 ],\n",
       "       [7.23, 7.  ]])"
      ]
     },
     "execution_count": 9,
     "metadata": {},
     "output_type": "execute_result"
    }
   ],
   "source": [
    "a2_prime = a1.reshape(2,2)\n",
    "a2_prime"
   ]
  },
  {
   "cell_type": "markdown",
   "metadata": {},
   "source": [
    "Here are some useful functions to create specific arrays:"
   ]
  },
  {
   "cell_type": "code",
   "execution_count": 10,
   "metadata": {
    "ExecuteTime": {
     "end_time": "2022-02-23T16:30:36.010495Z",
     "start_time": "2022-02-23T16:30:36.000523Z"
    }
   },
   "outputs": [
    {
     "data": {
      "text/plain": [
       "array([ 2,  3,  4,  5,  6,  7,  8,  9, 10, 11, 12, 13, 14])"
      ]
     },
     "execution_count": 10,
     "metadata": {},
     "output_type": "execute_result"
    }
   ],
   "source": [
    "range_array = np.arange(2,15)\n",
    "range_array"
   ]
  },
  {
   "cell_type": "code",
   "execution_count": 11,
   "metadata": {
    "ExecuteTime": {
     "end_time": "2022-02-23T16:30:36.410921Z",
     "start_time": "2022-02-23T16:30:36.398917Z"
    }
   },
   "outputs": [
    {
     "data": {
      "text/plain": [
       "array([ 2,  5,  8, 11, 14])"
      ]
     },
     "execution_count": 11,
     "metadata": {},
     "output_type": "execute_result"
    }
   ],
   "source": [
    "np.arange(2,15,3) #increment by 3 between 2 and 15"
   ]
  },
  {
   "cell_type": "code",
   "execution_count": 12,
   "metadata": {
    "ExecuteTime": {
     "end_time": "2022-02-23T16:30:37.001816Z",
     "start_time": "2022-02-23T16:30:36.991859Z"
    }
   },
   "outputs": [
    {
     "data": {
      "text/plain": [
       "array([0. , 0.4, 0.8, 1.2, 1.6, 2. ])"
      ]
     },
     "execution_count": 12,
     "metadata": {},
     "output_type": "execute_result"
    }
   ],
   "source": [
    "np.linspace(0, 2, 6) #6 equally spaced values between 0 and 2"
   ]
  },
  {
   "cell_type": "code",
   "execution_count": null,
   "metadata": {
    "ExecuteTime": {
     "end_time": "2022-02-23T16:30:37.435610Z",
     "start_time": "2022-02-23T16:30:37.424641Z"
    }
   },
   "outputs": [],
   "source": [
    "np.ones((3,4)) # fills array with the desired shape with ones"
   ]
  },
  {
   "cell_type": "code",
   "execution_count": null,
   "metadata": {
    "ExecuteTime": {
     "end_time": "2022-02-23T16:30:37.818613Z",
     "start_time": "2022-02-23T16:30:37.808642Z"
    }
   },
   "outputs": [],
   "source": [
    "np.zeros((2,3)) # Same with zeros"
   ]
  },
  {
   "cell_type": "code",
   "execution_count": null,
   "metadata": {
    "ExecuteTime": {
     "end_time": "2022-02-23T16:30:38.264027Z",
     "start_time": "2022-02-23T16:30:38.255047Z"
    }
   },
   "outputs": [],
   "source": [
    "#Two examples of 3D-arrays of shape (3,4,2) (1/2)\n",
    "np.ones((3,4,2))"
   ]
  },
  {
   "cell_type": "code",
   "execution_count": null,
   "metadata": {
    "ExecuteTime": {
     "end_time": "2022-02-23T16:30:38.985362Z",
     "start_time": "2022-02-23T16:30:38.977910Z"
    }
   },
   "outputs": [],
   "source": [
    "#Two examples of 3D-arrays of shape (3,4,2) (2/2)\n",
    "np.arange(3*4*2).reshape(3,4,2)"
   ]
  },
  {
   "cell_type": "markdown",
   "metadata": {},
   "source": [
    "### Basic operations"
   ]
  },
  {
   "cell_type": "code",
   "execution_count": null,
   "metadata": {
    "ExecuteTime": {
     "end_time": "2022-02-23T16:30:40.262726Z",
     "start_time": "2022-02-23T16:30:40.257741Z"
    }
   },
   "outputs": [],
   "source": [
    "a = np.array([0, 1, 2, 3])\n",
    "a"
   ]
  },
  {
   "cell_type": "code",
   "execution_count": null,
   "metadata": {
    "ExecuteTime": {
     "end_time": "2022-02-23T16:30:40.617640Z",
     "start_time": "2022-02-23T16:30:40.608668Z"
    }
   },
   "outputs": [],
   "source": [
    "a*2 #multiplication by scalar"
   ]
  },
  {
   "cell_type": "code",
   "execution_count": null,
   "metadata": {
    "ExecuteTime": {
     "end_time": "2022-02-23T16:30:41.002003Z",
     "start_time": "2022-02-23T16:30:40.992030Z"
    }
   },
   "outputs": [],
   "source": [
    "a**2 # a to the power of two"
   ]
  },
  {
   "cell_type": "code",
   "execution_count": null,
   "metadata": {
    "ExecuteTime": {
     "end_time": "2022-02-23T16:30:41.386037Z",
     "start_time": "2022-02-23T16:30:41.375089Z"
    }
   },
   "outputs": [],
   "source": [
    "a**2 / 2  # (a^2)/ 2"
   ]
  },
  {
   "cell_type": "code",
   "execution_count": null,
   "metadata": {
    "ExecuteTime": {
     "end_time": "2022-02-23T16:30:41.735529Z",
     "start_time": "2022-02-23T16:30:41.729546Z"
    }
   },
   "outputs": [],
   "source": [
    "np.sin(a) # numpy predefined sin function (many other functions exist: cos, log, exp, sqrt, ...)"
   ]
  },
  {
   "cell_type": "markdown",
   "metadata": {},
   "source": [
    "For a list of available universal functions: https://numpy.org/devdocs/reference/ufuncs.html#available-ufuncs"
   ]
  },
  {
   "cell_type": "code",
   "execution_count": null,
   "metadata": {
    "ExecuteTime": {
     "end_time": "2022-02-23T16:30:42.752967Z",
     "start_time": "2022-02-23T16:30:42.740999Z"
    }
   },
   "outputs": [],
   "source": [
    "a < 2 # boolean condition \"spread\" into the vector"
   ]
  },
  {
   "cell_type": "code",
   "execution_count": null,
   "metadata": {
    "ExecuteTime": {
     "end_time": "2022-02-23T16:30:43.131216Z",
     "start_time": "2022-02-23T16:30:43.119261Z"
    }
   },
   "outputs": [],
   "source": [
    "# Two matrices A and B\n",
    "A = np.array([[1, 2],\n",
    "              [5, 3]])\n",
    "\n",
    "B = np.array([[1, 3],\n",
    "              [2, 8]])\n",
    "A"
   ]
  },
  {
   "cell_type": "code",
   "execution_count": null,
   "metadata": {
    "ExecuteTime": {
     "end_time": "2022-02-23T16:30:46.282724Z",
     "start_time": "2022-02-23T16:30:46.273745Z"
    }
   },
   "outputs": [],
   "source": [
    "#scalar product\n",
    "A * B"
   ]
  },
  {
   "cell_type": "code",
   "execution_count": null,
   "metadata": {
    "ExecuteTime": {
     "end_time": "2022-02-23T16:30:46.857025Z",
     "start_time": "2022-02-23T16:30:46.850046Z"
    }
   },
   "outputs": [],
   "source": [
    "#Matrix product\n",
    "A @ B"
   ]
  },
  {
   "cell_type": "code",
   "execution_count": null,
   "metadata": {
    "ExecuteTime": {
     "end_time": "2022-02-23T16:30:47.567999Z",
     "start_time": "2022-02-23T16:30:47.554036Z"
    }
   },
   "outputs": [],
   "source": [
    "#Alternatively: (does the same)\n",
    "A.dot(B)"
   ]
  },
  {
   "cell_type": "code",
   "execution_count": null,
   "metadata": {
    "ExecuteTime": {
     "end_time": "2022-02-23T16:30:48.317003Z",
     "start_time": "2022-02-23T16:30:48.306035Z"
    }
   },
   "outputs": [],
   "source": [
    "#Sum over all elements in A\n",
    "A.sum()"
   ]
  },
  {
   "cell_type": "code",
   "execution_count": null,
   "metadata": {
    "ExecuteTime": {
     "end_time": "2022-02-23T16:30:48.955095Z",
     "start_time": "2022-02-23T16:30:48.946102Z"
    }
   },
   "outputs": [],
   "source": [
    "#Sum in A along specified axis 0 (same for min, max, etc...)\n",
    "A.sum(axis=0)"
   ]
  },
  {
   "cell_type": "code",
   "execution_count": null,
   "metadata": {
    "ExecuteTime": {
     "end_time": "2022-02-23T16:30:49.644982Z",
     "start_time": "2022-02-23T16:30:49.634020Z"
    }
   },
   "outputs": [],
   "source": [
    "#Sum in A along specified axis 1 (same for min, max, etc...)\n",
    "A.sum(axis=1)"
   ]
  },
  {
   "cell_type": "code",
   "execution_count": null,
   "metadata": {
    "ExecuteTime": {
     "end_time": "2022-02-23T16:30:50.235980Z",
     "start_time": "2022-02-23T16:30:50.226024Z"
    }
   },
   "outputs": [],
   "source": [
    "#A transposed\n",
    "A.transpose()"
   ]
  },
  {
   "cell_type": "code",
   "execution_count": null,
   "metadata": {
    "ExecuteTime": {
     "end_time": "2022-02-23T16:31:18.611153Z",
     "start_time": "2022-02-23T16:31:18.594216Z"
    }
   },
   "outputs": [],
   "source": [
    "#inverse of A\n",
    "np.linalg.inv(A)"
   ]
  },
  {
   "cell_type": "markdown",
   "metadata": {},
   "source": [
    "### Random numbers generation"
   ]
  },
  {
   "cell_type": "markdown",
   "metadata": {},
   "source": [
    "The submodule `numpy.random` is used to generate random values in an array of specified shape.\n",
    "\n",
    "First, it is always a good idea to set a seed for reproducibility, in projects using random elements."
   ]
  },
  {
   "cell_type": "code",
   "execution_count": null,
   "metadata": {
    "ExecuteTime": {
     "end_time": "2022-02-23T18:02:31.772868Z",
     "start_time": "2022-02-23T18:02:31.759869Z"
    }
   },
   "outputs": [],
   "source": [
    "np.random.seed(1)"
   ]
  },
  {
   "cell_type": "markdown",
   "metadata": {},
   "source": [
    "Then for example:"
   ]
  },
  {
   "cell_type": "code",
   "execution_count": null,
   "metadata": {
    "ExecuteTime": {
     "end_time": "2022-02-23T16:32:35.041729Z",
     "start_time": "2022-02-23T16:32:35.035748Z"
    }
   },
   "outputs": [],
   "source": [
    "#Gaussian realisations in an array of shape (2,3) (try running this cell multiple times)\n",
    "np.random.randn(2,3)"
   ]
  },
  {
   "cell_type": "code",
   "execution_count": null,
   "metadata": {
    "ExecuteTime": {
     "end_time": "2022-02-23T16:32:35.546080Z",
     "start_time": "2022-02-23T16:32:35.536630Z"
    }
   },
   "outputs": [],
   "source": [
    "# For the more general N(mu,sigma^2) distribution, one can do:\n",
    "mu = 1\n",
    "sigma = 2\n",
    "mu + np.random.randn(2,3) * sigma"
   ]
  },
  {
   "cell_type": "code",
   "execution_count": null,
   "metadata": {
    "ExecuteTime": {
     "end_time": "2022-02-23T16:32:36.026662Z",
     "start_time": "2022-02-23T16:32:36.016688Z"
    }
   },
   "outputs": [],
   "source": [
    "#Uniform(0,1) distribution\n",
    "np.random.rand(3,4)"
   ]
  },
  {
   "cell_type": "markdown",
   "metadata": {},
   "source": [
    "## Data Frames with `pandas`"
   ]
  },
  {
   "cell_type": "code",
   "execution_count": null,
   "metadata": {
    "ExecuteTime": {
     "end_time": "2022-02-23T16:32:38.232329Z",
     "start_time": "2022-02-23T16:32:37.425531Z"
    }
   },
   "outputs": [],
   "source": [
    "import pandas as pd"
   ]
  },
  {
   "cell_type": "markdown",
   "metadata": {},
   "source": [
    "In `pandas` you will mainly deal with two types of data structures, pd.`Series` and pd.`DataFrame`. \n",
    "\n",
    "DataFrames are for tabular data, that you probably already dealt with, in R for example with data.frames or tibbles. Each column represents a *variable* and each row an *observation*. Each variable has a single type (e.g. int, float, string, categorical (=factor in R), datetime)\n",
    "\n",
    "Series only contain observations for a single variable. They can be seen as a single column DataFrame, but it's important to distiguish the two, as they are not manipulated in the exact same manner."
   ]
  },
  {
   "cell_type": "markdown",
   "metadata": {},
   "source": [
    "### Series"
   ]
  },
  {
   "cell_type": "markdown",
   "metadata": {},
   "source": [
    "Here is an example of a Series of type int:"
   ]
  },
  {
   "cell_type": "code",
   "execution_count": null,
   "metadata": {
    "ExecuteTime": {
     "end_time": "2022-02-23T16:32:39.462279Z",
     "start_time": "2022-02-23T16:32:39.445329Z"
    }
   },
   "outputs": [],
   "source": [
    "series_data = pd.Series([243, 12, 126, 101])\n",
    "series_data"
   ]
  },
  {
   "cell_type": "code",
   "execution_count": null,
   "metadata": {
    "ExecuteTime": {
     "end_time": "2022-02-23T16:32:40.169428Z",
     "start_time": "2022-02-23T16:32:40.159443Z"
    }
   },
   "outputs": [],
   "source": [
    "#one could give a custom index\n",
    "series_data2 = pd.Series([243, 12, 126, 101],\n",
    "                         index=['John', 'Rebecca', 'Francis', 'Albert'])\n",
    "series_data2"
   ]
  },
  {
   "cell_type": "markdown",
   "metadata": {},
   "source": [
    "one can then access values trough:"
   ]
  },
  {
   "cell_type": "code",
   "execution_count": null,
   "metadata": {
    "ExecuteTime": {
     "end_time": "2022-02-23T16:32:41.178473Z",
     "start_time": "2022-02-23T16:32:41.168989Z"
    }
   },
   "outputs": [],
   "source": [
    "series_data2[\"Rebecca\"]"
   ]
  },
  {
   "cell_type": "markdown",
   "metadata": {},
   "source": [
    "Or convert the values to an array with:"
   ]
  },
  {
   "cell_type": "code",
   "execution_count": null,
   "metadata": {
    "ExecuteTime": {
     "end_time": "2022-02-23T16:32:42.275991Z",
     "start_time": "2022-02-23T16:32:42.271003Z"
    }
   },
   "outputs": [],
   "source": [
    "series_data2.values"
   ]
  },
  {
   "cell_type": "markdown",
   "metadata": {},
   "source": [
    "Perform operations:"
   ]
  },
  {
   "cell_type": "code",
   "execution_count": null,
   "metadata": {
    "ExecuteTime": {
     "end_time": "2022-02-23T16:32:43.421412Z",
     "start_time": "2022-02-23T16:32:43.407441Z"
    }
   },
   "outputs": [],
   "source": [
    "series_data3 = pd.Series([3, 4, 3, 4], index=['John', 'Rebecca', 'Francis', 'Albert'])\n",
    "series_data2 + 2 * series_data3"
   ]
  },
  {
   "cell_type": "markdown",
   "metadata": {},
   "source": [
    "Also boolean operations:"
   ]
  },
  {
   "cell_type": "code",
   "execution_count": null,
   "metadata": {
    "ExecuteTime": {
     "end_time": "2022-02-23T16:32:44.314366Z",
     "start_time": "2022-02-23T16:32:44.306388Z"
    }
   },
   "outputs": [],
   "source": [
    "series_data2 < 120"
   ]
  },
  {
   "cell_type": "markdown",
   "metadata": {},
   "source": [
    "And select sub-Series based on boolean condition:"
   ]
  },
  {
   "cell_type": "code",
   "execution_count": null,
   "metadata": {
    "ExecuteTime": {
     "end_time": "2022-02-23T16:32:45.421393Z",
     "start_time": "2022-02-23T16:32:45.407410Z"
    }
   },
   "outputs": [],
   "source": [
    "series_data2[series_data2 < 120]"
   ]
  },
  {
   "cell_type": "markdown",
   "metadata": {},
   "source": [
    "### DataFrames"
   ]
  },
  {
   "cell_type": "markdown",
   "metadata": {},
   "source": [
    "Here is an example of a DataFrame, that gives some information about a group of observed animals:"
   ]
  },
  {
   "cell_type": "code",
   "execution_count": null,
   "metadata": {
    "ExecuteTime": {
     "end_time": "2022-02-23T16:32:46.851242Z",
     "start_time": "2022-02-23T16:32:46.831294Z"
    },
    "scrolled": true
   },
   "outputs": [],
   "source": [
    "data = pd.DataFrame({'population':[423, 334, 5686, 554, 438353, 229, 1001, 124],\n",
    "                     'species':[1, 1, 1, 1, 2, 2, 2, 2],\n",
    "                     'color':['Green', 'Red', 'Blue',\n",
    "                              'Yellow', 'Green', 'Red', 'Blue', 'Yellow']})\n",
    "data"
   ]
  },
  {
   "cell_type": "code",
   "execution_count": null,
   "metadata": {
    "ExecuteTime": {
     "end_time": "2022-02-23T16:32:47.372602Z",
     "start_time": "2022-02-23T16:32:47.361630Z"
    }
   },
   "outputs": [],
   "source": [
    "data.shape"
   ]
  },
  {
   "cell_type": "markdown",
   "metadata": {},
   "source": [
    "One could also import a DataFrame from a `.csv` file, for example, with `data = pd.read_csv(file_path)` of with `pd.read_table(file_path, sep=\",\")` (that also works for other formats)."
   ]
  },
  {
   "cell_type": "markdown",
   "metadata": {},
   "source": [
    "One can access a subset of columns via:"
   ]
  },
  {
   "cell_type": "code",
   "execution_count": null,
   "metadata": {
    "ExecuteTime": {
     "end_time": "2022-02-23T16:32:48.753373Z",
     "start_time": "2022-02-23T16:32:48.738414Z"
    }
   },
   "outputs": [],
   "source": [
    "data[[\"color\",\"population\"]]"
   ]
  },
  {
   "cell_type": "markdown",
   "metadata": {},
   "source": [
    "Be aware of the different syntaxes for accessing a single column:"
   ]
  },
  {
   "cell_type": "code",
   "execution_count": null,
   "metadata": {
    "ExecuteTime": {
     "end_time": "2022-02-23T16:32:49.821406Z",
     "start_time": "2022-02-23T16:32:49.814423Z"
    }
   },
   "outputs": [],
   "source": [
    "data[[\"population\"]] #returns a DataFrame"
   ]
  },
  {
   "cell_type": "code",
   "execution_count": null,
   "metadata": {
    "ExecuteTime": {
     "end_time": "2022-02-23T16:32:50.299243Z",
     "start_time": "2022-02-23T16:32:50.289236Z"
    }
   },
   "outputs": [],
   "source": [
    "data[\"population\"] #Returns a Series"
   ]
  },
  {
   "cell_type": "code",
   "execution_count": null,
   "metadata": {
    "ExecuteTime": {
     "end_time": "2022-02-23T16:32:50.876007Z",
     "start_time": "2022-02-23T16:32:50.866034Z"
    }
   },
   "outputs": [],
   "source": [
    "data.population #Alternative syntax, also returns a Series"
   ]
  },
  {
   "cell_type": "markdown",
   "metadata": {},
   "source": [
    "One can access specific observations with `.loc`:"
   ]
  },
  {
   "cell_type": "code",
   "execution_count": null,
   "metadata": {
    "ExecuteTime": {
     "end_time": "2022-02-23T16:32:51.906462Z",
     "start_time": "2022-02-23T16:32:51.890504Z"
    }
   },
   "outputs": [],
   "source": [
    "data.loc[[3,5]]"
   ]
  },
  {
   "cell_type": "code",
   "execution_count": null,
   "metadata": {
    "ExecuteTime": {
     "end_time": "2022-02-23T16:32:52.272227Z",
     "start_time": "2022-02-23T16:32:52.258234Z"
    }
   },
   "outputs": [],
   "source": [
    "data.loc[3:5]"
   ]
  },
  {
   "cell_type": "markdown",
   "metadata": {},
   "source": [
    "It also works with conditions:"
   ]
  },
  {
   "cell_type": "code",
   "execution_count": null,
   "metadata": {
    "ExecuteTime": {
     "end_time": "2022-02-23T16:32:52.990190Z",
     "start_time": "2022-02-23T16:32:52.975232Z"
    }
   },
   "outputs": [],
   "source": [
    "data.loc[data.population < 500]"
   ]
  },
  {
   "cell_type": "markdown",
   "metadata": {},
   "source": [
    "Or with queries (for more complex conditions):"
   ]
  },
  {
   "cell_type": "code",
   "execution_count": null,
   "metadata": {
    "ExecuteTime": {
     "end_time": "2022-02-23T16:32:53.819396Z",
     "start_time": "2022-02-23T16:32:53.797478Z"
    }
   },
   "outputs": [],
   "source": [
    "data.query(\"population < 500 & color == 'Red'\")"
   ]
  },
  {
   "cell_type": "markdown",
   "metadata": {},
   "source": [
    "One can access (and modify) some information, like column names and the index via, for example:"
   ]
  },
  {
   "cell_type": "code",
   "execution_count": null,
   "metadata": {
    "ExecuteTime": {
     "end_time": "2022-02-23T16:32:54.585236Z",
     "start_time": "2022-02-23T16:32:54.575295Z"
    }
   },
   "outputs": [],
   "source": [
    "data.columns # = [\"new_name1\",\"new_name2\",\"new_name3\"]"
   ]
  },
  {
   "cell_type": "code",
   "execution_count": null,
   "metadata": {
    "ExecuteTime": {
     "end_time": "2022-02-23T16:32:54.980546Z",
     "start_time": "2022-02-23T16:32:54.976563Z"
    }
   },
   "outputs": [],
   "source": [
    "data.index # = [new index values]"
   ]
  },
  {
   "cell_type": "code",
   "execution_count": null,
   "metadata": {
    "ExecuteTime": {
     "end_time": "2022-02-23T16:32:55.392060Z",
     "start_time": "2022-02-23T16:32:55.377084Z"
    }
   },
   "outputs": [],
   "source": [
    "data.index.name=\"id\"\n",
    "data"
   ]
  },
  {
   "cell_type": "markdown",
   "metadata": {},
   "source": [
    "A new column can be easily created or modified, for example:"
   ]
  },
  {
   "cell_type": "code",
   "execution_count": null,
   "metadata": {
    "ExecuteTime": {
     "end_time": "2022-02-23T16:32:56.408317Z",
     "start_time": "2022-02-23T16:32:56.390367Z"
    }
   },
   "outputs": [],
   "source": [
    "data[\"year\"]=2020\n",
    "data"
   ]
  },
  {
   "cell_type": "code",
   "execution_count": null,
   "metadata": {
    "ExecuteTime": {
     "end_time": "2022-02-23T16:32:56.945321Z",
     "start_time": "2022-02-23T16:32:56.930326Z"
    }
   },
   "outputs": [],
   "source": [
    "data[\"year\"]=[2020,2020,2021,2021,2019,2019,2019,2021]\n",
    "data"
   ]
  },
  {
   "cell_type": "markdown",
   "metadata": {},
   "source": [
    "or dropped:"
   ]
  },
  {
   "cell_type": "code",
   "execution_count": null,
   "metadata": {
    "ExecuteTime": {
     "end_time": "2022-02-23T16:32:58.091254Z",
     "start_time": "2022-02-23T16:32:58.082277Z"
    }
   },
   "outputs": [],
   "source": [
    "data.drop(\"year\", axis=1, inplace=True)\n",
    "# or equivalently:\n",
    "# data = data.drop(\"year\", axis=1)\n",
    "data"
   ]
  },
  {
   "cell_type": "markdown",
   "metadata": {},
   "source": [
    "### Data Types"
   ]
  },
  {
   "cell_type": "code",
   "execution_count": null,
   "metadata": {
    "ExecuteTime": {
     "end_time": "2022-02-23T16:32:59.130606Z",
     "start_time": "2022-02-23T16:32:59.119638Z"
    }
   },
   "outputs": [],
   "source": [
    "data.dtypes # type of each column (strings are considered as \"object\")"
   ]
  },
  {
   "cell_type": "markdown",
   "metadata": {},
   "source": [
    "One can change the column types, for example with:"
   ]
  },
  {
   "cell_type": "code",
   "execution_count": null,
   "metadata": {
    "ExecuteTime": {
     "end_time": "2022-02-23T16:33:00.146424Z",
     "start_time": "2022-02-23T16:33:00.130469Z"
    }
   },
   "outputs": [],
   "source": [
    "modified_data = data.astype({\"population\":\"float\"})\n",
    "modified_data"
   ]
  },
  {
   "cell_type": "markdown",
   "metadata": {},
   "source": [
    "The type \"category\" is the pandas equivalent to R's factors:"
   ]
  },
  {
   "cell_type": "code",
   "execution_count": null,
   "metadata": {
    "ExecuteTime": {
     "end_time": "2022-02-23T16:33:01.235466Z",
     "start_time": "2022-02-23T16:33:01.218511Z"
    }
   },
   "outputs": [],
   "source": [
    "modified_data = data.astype({\"color\":\"category\"})\n",
    "modified_data"
   ]
  },
  {
   "cell_type": "code",
   "execution_count": null,
   "metadata": {
    "ExecuteTime": {
     "end_time": "2022-02-23T16:33:01.675124Z",
     "start_time": "2022-02-23T16:33:01.666148Z"
    }
   },
   "outputs": [],
   "source": [
    "modified_data.dtypes"
   ]
  },
  {
   "cell_type": "code",
   "execution_count": null,
   "metadata": {
    "ExecuteTime": {
     "end_time": "2022-02-23T16:33:02.191438Z",
     "start_time": "2022-02-23T16:33:02.180466Z"
    }
   },
   "outputs": [],
   "source": [
    "modified_data.color.cat.categories"
   ]
  },
  {
   "cell_type": "code",
   "execution_count": null,
   "metadata": {
    "ExecuteTime": {
     "end_time": "2022-02-23T16:33:02.760121Z",
     "start_time": "2022-02-23T16:33:02.754138Z"
    }
   },
   "outputs": [],
   "source": [
    "modified_data.color.cat.codes"
   ]
  },
  {
   "cell_type": "markdown",
   "metadata": {},
   "source": [
    "### Some useful methods"
   ]
  },
  {
   "cell_type": "markdown",
   "metadata": {},
   "source": [
    "Here are some useful (self explanatory) methods and attributes that you may often need to use:"
   ]
  },
  {
   "cell_type": "markdown",
   "metadata": {},
   "source": [
    "#### Data Exploration"
   ]
  },
  {
   "cell_type": "code",
   "execution_count": null,
   "metadata": {
    "ExecuteTime": {
     "end_time": "2022-02-23T16:33:07.347059Z",
     "start_time": "2022-02-23T16:33:07.333097Z"
    }
   },
   "outputs": [],
   "source": [
    "data.head(5) #first 5 entries  (tail(5) for the last 5)"
   ]
  },
  {
   "cell_type": "code",
   "execution_count": null,
   "metadata": {
    "ExecuteTime": {
     "end_time": "2022-02-23T16:33:07.822364Z",
     "start_time": "2022-02-23T16:33:07.808402Z"
    }
   },
   "outputs": [],
   "source": [
    "data.population.describe() # basic stats for the \"population\" variable"
   ]
  },
  {
   "cell_type": "code",
   "execution_count": null,
   "metadata": {
    "ExecuteTime": {
     "end_time": "2022-02-23T16:33:08.192246Z",
     "start_time": "2022-02-23T16:33:08.176295Z"
    }
   },
   "outputs": [],
   "source": [
    "data.color.value_counts() # counts the occurences of each value in \"color\""
   ]
  },
  {
   "cell_type": "code",
   "execution_count": null,
   "metadata": {
    "ExecuteTime": {
     "end_time": "2022-02-23T16:33:08.923789Z",
     "start_time": "2022-02-23T16:33:08.913817Z"
    }
   },
   "outputs": [],
   "source": [
    "data.corr() #correlation between numerical columns"
   ]
  },
  {
   "cell_type": "code",
   "execution_count": null,
   "metadata": {
    "ExecuteTime": {
     "end_time": "2022-02-23T16:33:09.406590Z",
     "start_time": "2022-02-23T16:33:09.393597Z"
    }
   },
   "outputs": [],
   "source": [
    "data.sort_values(by=\"population\", ascending=True)"
   ]
  },
  {
   "cell_type": "markdown",
   "metadata": {},
   "source": [
    "#### Indexing"
   ]
  },
  {
   "cell_type": "code",
   "execution_count": null,
   "metadata": {
    "ExecuteTime": {
     "end_time": "2022-02-23T16:33:10.571854Z",
     "start_time": "2022-02-23T16:33:10.562880Z"
    }
   },
   "outputs": [],
   "source": [
    "data.index.is_unique #checks if index is unique (different value for each observation) which is always desirable"
   ]
  },
  {
   "cell_type": "code",
   "execution_count": null,
   "metadata": {
    "ExecuteTime": {
     "end_time": "2022-02-23T16:33:11.216988Z",
     "start_time": "2022-02-23T16:33:11.203018Z"
    }
   },
   "outputs": [],
   "source": [
    "data.sort_index(ascending=True)"
   ]
  },
  {
   "cell_type": "code",
   "execution_count": null,
   "metadata": {
    "ExecuteTime": {
     "end_time": "2022-02-23T16:33:11.956165Z",
     "start_time": "2022-02-23T16:33:11.938215Z"
    }
   },
   "outputs": [],
   "source": [
    "data = data.set_index([\"species\",\"color\"]) # (Multi)-indexing\n",
    "data"
   ]
  },
  {
   "cell_type": "code",
   "execution_count": null,
   "metadata": {
    "ExecuteTime": {
     "end_time": "2022-02-23T16:33:12.873019Z",
     "start_time": "2022-02-23T16:33:12.864043Z"
    }
   },
   "outputs": [],
   "source": [
    "data.reset_index(inplace=True)\n",
    "data"
   ]
  },
  {
   "cell_type": "markdown",
   "metadata": {},
   "source": [
    "#### Missing values"
   ]
  },
  {
   "cell_type": "code",
   "execution_count": null,
   "metadata": {
    "ExecuteTime": {
     "end_time": "2022-02-23T16:33:14.321286Z",
     "start_time": "2022-02-23T16:33:14.309353Z"
    }
   },
   "outputs": [],
   "source": [
    "data.loc[3, \"population\"] = np.nan #suppose there is a missing value\n",
    "data"
   ]
  },
  {
   "cell_type": "code",
   "execution_count": null,
   "metadata": {
    "ExecuteTime": {
     "end_time": "2022-02-23T16:33:14.952151Z",
     "start_time": "2022-02-23T16:33:14.945156Z"
    }
   },
   "outputs": [],
   "source": [
    "data.dropna() # Drop rows with NA values "
   ]
  },
  {
   "cell_type": "code",
   "execution_count": null,
   "metadata": {
    "ExecuteTime": {
     "end_time": "2022-02-23T16:33:15.857000Z",
     "start_time": "2022-02-23T16:33:15.840047Z"
    }
   },
   "outputs": [],
   "source": [
    "data.fillna(0) #fills NAs"
   ]
  },
  {
   "cell_type": "markdown",
   "metadata": {},
   "source": [
    "### More advanced concepts"
   ]
  },
  {
   "cell_type": "markdown",
   "metadata": {},
   "source": [
    "#### GroupBy, aggregate and Apply"
   ]
  },
  {
   "cell_type": "markdown",
   "metadata": {},
   "source": [
    "Quite often in your analyses you will need to evaluate statistics within subgroups in your data.\n",
    "\n",
    "You can achieve this with the `groupby` method. Suppose, for example, that we want the mean population by species in `data`:"
   ]
  },
  {
   "cell_type": "code",
   "execution_count": null,
   "metadata": {
    "ExecuteTime": {
     "end_time": "2022-02-23T16:33:17.989504Z",
     "start_time": "2022-02-23T16:33:17.970555Z"
    }
   },
   "outputs": [],
   "source": [
    "data.groupby(\"species\")[[\"population\"]].mean()"
   ]
  },
  {
   "cell_type": "code",
   "execution_count": null,
   "metadata": {
    "ExecuteTime": {
     "end_time": "2022-02-23T16:33:18.315232Z",
     "start_time": "2022-02-23T16:33:18.304265Z"
    }
   },
   "outputs": [],
   "source": [
    "data.groupby(\"species\")[[\"population\"]].mean().add_suffix('_mean') # The result is a bit clearer with a suffix"
   ]
  },
  {
   "cell_type": "markdown",
   "metadata": {},
   "source": [
    "One could achieve the same with:"
   ]
  },
  {
   "cell_type": "code",
   "execution_count": null,
   "metadata": {
    "ExecuteTime": {
     "end_time": "2022-02-23T16:33:19.476349Z",
     "start_time": "2022-02-23T16:33:19.217565Z"
    }
   },
   "outputs": [],
   "source": [
    "data.groupby(\"species\")[[\"population\"]].apply(np.mean).add_suffix('_mean')"
   ]
  },
  {
   "cell_type": "markdown",
   "metadata": {},
   "source": [
    "where any desired function can be applied to the groups instead of `np.mean`, for example a user defined function."
   ]
  },
  {
   "cell_type": "markdown",
   "metadata": {},
   "source": [
    "GroupBy can also take multiple columns for the grouping. Suppose we want the mean population by species and color: (in this particular case it's not very useful, but you get the idea)"
   ]
  },
  {
   "cell_type": "code",
   "execution_count": null,
   "metadata": {
    "ExecuteTime": {
     "end_time": "2022-02-23T16:34:04.435334Z",
     "start_time": "2022-02-23T16:34:04.322700Z"
    }
   },
   "outputs": [],
   "source": [
    "data.groupby([\"species\",\"color\"])[[\"population\"]].apply(np.mean).add_suffix('_mean')"
   ]
  },
  {
   "cell_type": "markdown",
   "metadata": {},
   "source": [
    "The apply method can also be used without the groupby, to apply any function to a column!"
   ]
  },
  {
   "cell_type": "markdown",
   "metadata": {},
   "source": [
    "#### Combining DataFrames"
   ]
  },
  {
   "cell_type": "markdown",
   "metadata": {},
   "source": [
    "If you need additional variables for your analysis, that are imported in a separate DataFrame, you can \"merge\" the already existing `data` with it:"
   ]
  },
  {
   "cell_type": "code",
   "execution_count": null,
   "metadata": {
    "ExecuteTime": {
     "end_time": "2022-02-23T16:34:07.105657Z",
     "start_time": "2022-02-23T16:34:07.092680Z"
    }
   },
   "outputs": [],
   "source": [
    "# The additional data frame:\n",
    "df2 = pd.DataFrame({'species':[1, 2],\n",
    "                     'number_legs':[2,4]})\n",
    "df2.set_index(\"species\", inplace=True)\n",
    "df2"
   ]
  },
  {
   "cell_type": "code",
   "execution_count": null,
   "metadata": {
    "ExecuteTime": {
     "end_time": "2022-02-23T16:34:07.811765Z",
     "start_time": "2022-02-23T16:34:07.792815Z"
    }
   },
   "outputs": [],
   "source": [
    "pd.merge(data, df2, left_on='species', right_index=True, how='outer')"
   ]
  },
  {
   "cell_type": "markdown",
   "metadata": {},
   "source": [
    "You can also concatenate your `data` with additional observations for the same variables:"
   ]
  },
  {
   "cell_type": "code",
   "execution_count": null,
   "metadata": {
    "ExecuteTime": {
     "end_time": "2022-02-23T16:34:09.037210Z",
     "start_time": "2022-02-23T16:34:09.024223Z"
    }
   },
   "outputs": [],
   "source": [
    "# The additional observations:\n",
    "df3 = pd.DataFrame({'population':[12, 34],\n",
    "                     'species':[1, 2],\n",
    "                     'color':['Purple', 'Pink']})\n",
    "df3"
   ]
  },
  {
   "cell_type": "code",
   "execution_count": null,
   "metadata": {
    "ExecuteTime": {
     "end_time": "2022-02-23T16:34:10.139707Z",
     "start_time": "2022-02-23T16:34:10.131728Z"
    }
   },
   "outputs": [],
   "source": [
    "pd.concat([data, df3], axis=0)"
   ]
  },
  {
   "cell_type": "markdown",
   "metadata": {},
   "source": [
    "If interested, you can find more detailed explanations here:\n",
    "https://pandas.pydata.org/pandas-docs/stable/user_guide/merging.html"
   ]
  },
  {
   "cell_type": "markdown",
   "metadata": {},
   "source": [
    "There are a lot of other very powerful tools available for data wrangling in the pandas library, that will probably allow you to perform or overcome any possible task or challenge for any type of data you will be facing. Do not hesitate to check out the parts of the nice documentation that are relevant for your specific needs at https://pandas.pydata.org/pandas-docs/stable/user_guide/index.html."
   ]
  },
  {
   "cell_type": "markdown",
   "metadata": {},
   "source": [
    "## Figures with `matplotlib`"
   ]
  },
  {
   "cell_type": "code",
   "execution_count": null,
   "metadata": {
    "ExecuteTime": {
     "end_time": "2022-02-23T16:34:17.329533Z",
     "start_time": "2022-02-23T16:34:12.661533Z"
    }
   },
   "outputs": [],
   "source": [
    "import matplotlib.pyplot as plt\n",
    "# To ensure showing the plots nicely in the notebook:\n",
    "%matplotlib inline"
   ]
  },
  {
   "cell_type": "markdown",
   "metadata": {},
   "source": [
    "The matplotlib module lets you construct a wide range of different types of plots, in a syntax similar to MatLab.\n",
    "Here are a few simple examples:"
   ]
  },
  {
   "cell_type": "code",
   "execution_count": null,
   "metadata": {
    "ExecuteTime": {
     "end_time": "2022-02-23T16:34:18.153480Z",
     "start_time": "2022-02-23T16:34:18.144507Z"
    }
   },
   "outputs": [],
   "source": [
    "x = np.arange(10)\n",
    "y = [4,2,2,8,7,6,6,9,6,10]"
   ]
  },
  {
   "cell_type": "code",
   "execution_count": null,
   "metadata": {
    "ExecuteTime": {
     "end_time": "2022-02-23T16:34:19.040263Z",
     "start_time": "2022-02-23T16:34:18.882892Z"
    }
   },
   "outputs": [],
   "source": [
    "plt.figure(figsize=(9,4))\n",
    "plt.plot(x,y)\n",
    "plt.title(\"A simple line plot\")\n",
    "plt.xlabel(\"x\")\n",
    "plt.ylabel(\"y\")\n",
    "plt.show()"
   ]
  },
  {
   "cell_type": "code",
   "execution_count": null,
   "metadata": {
    "ExecuteTime": {
     "end_time": "2022-02-23T16:34:19.964313Z",
     "start_time": "2022-02-23T16:34:19.859589Z"
    }
   },
   "outputs": [],
   "source": [
    "plt.figure(figsize=(6,6))\n",
    "plt.bar(x,y)\n",
    "plt.title(\"A simple bar plot\")\n",
    "plt.xlabel(\"x\")\n",
    "plt.ylabel(\"y\")\n",
    "plt.show()"
   ]
  },
  {
   "cell_type": "code",
   "execution_count": null,
   "metadata": {
    "ExecuteTime": {
     "end_time": "2022-02-23T16:34:31.923517Z",
     "start_time": "2022-02-23T16:34:31.827757Z"
    }
   },
   "outputs": [],
   "source": [
    "plt.figure(figsize=(6,6))\n",
    "plt.boxplot(y)\n",
    "plt.title(\"A simple boxplot\",size=16)\n",
    "plt.xticks(ticks=[1], labels=[\"x\"], size=16)\n",
    "plt.show()"
   ]
  },
  {
   "cell_type": "code",
   "execution_count": null,
   "metadata": {
    "ExecuteTime": {
     "end_time": "2022-02-23T16:34:32.884077Z",
     "start_time": "2022-02-23T16:34:32.754697Z"
    }
   },
   "outputs": [],
   "source": [
    "plt.figure(figsize=(6,5))\n",
    "plt.hist(y, bins=6, density=True)\n",
    "plt.title(\"A simple histogram\", size=20)\n",
    "plt.xlabel(\"x\", size=14)\n",
    "plt.ylabel(\"density\", size=14)\n",
    "plt.show()"
   ]
  },
  {
   "cell_type": "markdown",
   "metadata": {},
   "source": [
    "### `pandas` + `matplotlib`"
   ]
  },
  {
   "cell_type": "markdown",
   "metadata": {},
   "source": [
    "Pandas has already built in plotting functions, compatible with matplotlib ! :)\n",
    "\n",
    "Suppose that we want a bar plot of the log population by color, using our `DataFrame` \"data\" from above:"
   ]
  },
  {
   "cell_type": "code",
   "execution_count": null,
   "metadata": {
    "ExecuteTime": {
     "end_time": "2022-02-23T16:34:36.892404Z",
     "start_time": "2022-02-23T16:34:36.881437Z"
    }
   },
   "outputs": [],
   "source": [
    "#First we extract the desired info from the data, with groupby:\n",
    "pop_by_color = data.groupby(\"color\")[[\"population\"]].sum().apply(np.log).add_prefix(\"log_\")\n",
    "pop_by_color"
   ]
  },
  {
   "cell_type": "code",
   "execution_count": null,
   "metadata": {
    "ExecuteTime": {
     "end_time": "2022-02-23T16:34:37.430220Z",
     "start_time": "2022-02-23T16:34:37.300532Z"
    }
   },
   "outputs": [],
   "source": [
    "pop_by_color.plot.bar(y=[\"log_population\"], figsize=(8,6))\n",
    "plt.title(\"A simple bar plot of the log population\")\n",
    "plt.show()"
   ]
  },
  {
   "cell_type": "markdown",
   "metadata": {},
   "source": [
    "Same with a `Series`:"
   ]
  },
  {
   "cell_type": "code",
   "execution_count": null,
   "metadata": {
    "ExecuteTime": {
     "end_time": "2022-02-23T16:34:39.736369Z",
     "start_time": "2022-02-23T16:34:39.729387Z"
    }
   },
   "outputs": [],
   "source": [
    "#Same data, but in the form of a Series instead of a DataFrame:\n",
    "pop_by_color_series = pop_by_color.log_population\n",
    "pop_by_color_series"
   ]
  },
  {
   "cell_type": "code",
   "execution_count": null,
   "metadata": {
    "ExecuteTime": {
     "end_time": "2022-02-23T16:34:40.690500Z",
     "start_time": "2022-02-23T16:34:40.582790Z"
    }
   },
   "outputs": [],
   "source": [
    "pop_by_color_series.plot.bar(figsize=(8,6))\n",
    "plt.title(\"A simple bar plot of the log population\")\n",
    "plt.ylabel(\"log population\")\n",
    "plt.show()"
   ]
  },
  {
   "cell_type": "markdown",
   "metadata": {},
   "source": [
    "## Machine Learning with Scikit-Learn"
   ]
  },
  {
   "cell_type": "markdown",
   "metadata": {},
   "source": [
    "Scikit-learn is currently one of the most used frameworks for machine learning. It not only contains efficient implementations of a wide range of classical machine learning methods, but it also set a new syntax (API) standard for many other complementary machine learning libraries in python, that now share the same user interface."
   ]
  },
  {
   "cell_type": "markdown",
   "metadata": {},
   "source": [
    "Apart from the ML methods themselves, sklearn also provides useful tools to perform additional tasks useful for your pipeline, such as preprocess the data (Transformers), compute metrics and losses, perform model selection, and so on...\n",
    "\n",
    "All these tools are available as classes (see the relevant section in `Introduction_to_python.ipynb`), with consistent method names:\n",
    "- All supervised learning methods have a `.fit()` method to fit the model and a `.predict()` method for prediction on new data.\n",
    "- All data transformers have a `.fit()` method to estimate the needed statistics and a `.transform()` method for transforming the data.\n",
    "\n",
    "Scikit-learn works both with numpy arrays and pandas DataFrames."
   ]
  },
  {
   "cell_type": "markdown",
   "metadata": {},
   "source": [
    "For example the `StandardScaler` is a Transformer that computes the mean and standard deviation by variable (column) and transforms the data to be centered and scaled based on these metrics:"
   ]
  },
  {
   "cell_type": "code",
   "execution_count": null,
   "metadata": {
    "ExecuteTime": {
     "end_time": "2022-02-23T16:35:06.864632Z",
     "start_time": "2022-02-23T16:35:06.851671Z"
    }
   },
   "outputs": [],
   "source": [
    "X = np.array([[2.2,4.6],\n",
    "             [3.,8.],\n",
    "             [7.4,6.2]])\n",
    "X"
   ]
  },
  {
   "cell_type": "code",
   "execution_count": null,
   "metadata": {
    "ExecuteTime": {
     "end_time": "2022-02-23T16:35:08.673867Z",
     "start_time": "2022-02-23T16:35:07.576919Z"
    }
   },
   "outputs": [],
   "source": [
    "from sklearn.preprocessing import StandardScaler\n",
    "\n",
    "my_scaler = StandardScaler() # create a scaler from the class (blueprint)\n",
    "\n",
    "my_scaler.fit(X) # computes and stores the mean and SD by column\n",
    "X_std = my_scaler.transform(X) # Transforms each column: (col_values - mean) / SD\n",
    "\n",
    "X_std"
   ]
  },
  {
   "cell_type": "markdown",
   "metadata": {},
   "source": [
    "The scaler can then transform additional data without re-evaluating the mean and SD (you will understand in a few weeks why this is useful)"
   ]
  },
  {
   "cell_type": "markdown",
   "metadata": {},
   "source": [
    "We will not go into more details here, as you will learn a bit more about the possibilities that `sklearn` offers through the future exercises during the semester"
   ]
  },
  {
   "cell_type": "markdown",
   "metadata": {},
   "source": [
    "Scikit-learn also has really comprehensive tutorials and documentation on the official website.\n",
    "If you need to apply machine learning methods that you will learn about in the courses during the semester, you can check out how to use them, with some tips here: https://scikit-learn.org/stable/user_guide.html, and a structured list of all classes and functions here: https://scikit-learn.org/stable/modules/classes.html"
   ]
  }
 ],
 "metadata": {
  "kernelspec": {
   "display_name": "Python 3 (ipykernel)",
   "language": "python",
   "name": "python3"
  },
  "language_info": {
   "codemirror_mode": {
    "name": "ipython",
    "version": 3
   },
   "file_extension": ".py",
   "mimetype": "text/x-python",
   "name": "python",
   "nbconvert_exporter": "python",
   "pygments_lexer": "ipython3",
   "version": "3.9.7"
  },
  "latex_envs": {
   "LaTeX_envs_menu_present": true,
   "autoclose": false,
   "autocomplete": true,
   "bibliofile": "biblio.bib",
   "cite_by": "apalike",
   "current_citInitial": 1,
   "eqLabelWithNumbers": true,
   "eqNumInitial": 1,
   "hotkeys": {
    "equation": "Ctrl-E",
    "itemize": "Ctrl-I"
   },
   "labels_anchors": false,
   "latex_user_defs": false,
   "report_style_numbering": false,
   "user_envs_cfg": false
  },
  "toc": {
   "base_numbering": 1,
   "nav_menu": {
    "height": "307px",
    "width": "256px"
   },
   "number_sections": true,
   "sideBar": true,
   "skip_h1_title": true,
   "title_cell": "Table of Contents",
   "title_sidebar": "Contents",
   "toc_cell": false,
   "toc_position": {
    "height": "calc(100% - 180px)",
    "left": "10px",
    "top": "150px",
    "width": "207px"
   },
   "toc_section_display": true,
   "toc_window_display": true
  },
  "varInspector": {
   "cols": {
    "lenName": 16,
    "lenType": 16,
    "lenVar": 40
   },
   "kernels_config": {
    "python": {
     "delete_cmd_postfix": "",
     "delete_cmd_prefix": "del ",
     "library": "var_list.py",
     "varRefreshCmd": "print(var_dic_list())"
    },
    "r": {
     "delete_cmd_postfix": ") ",
     "delete_cmd_prefix": "rm(",
     "library": "var_list.r",
     "varRefreshCmd": "cat(var_dic_list()) "
    }
   },
   "types_to_exclude": [
    "module",
    "function",
    "builtin_function_or_method",
    "instance",
    "_Feature"
   ],
   "window_display": false
  }
 },
 "nbformat": 4,
 "nbformat_minor": 4
}
