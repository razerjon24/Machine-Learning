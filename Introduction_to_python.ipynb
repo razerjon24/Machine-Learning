{
 "cells": [
  {
   "cell_type": "markdown",
   "metadata": {
    "ExecuteTime": {
     "end_time": "2021-02-15T15:30:58.618345Z",
     "start_time": "2021-02-15T15:30:58.610631Z"
    }
   },
   "source": [
    "# Introduction to Python"
   ]
  },
  {
   "cell_type": "markdown",
   "metadata": {},
   "source": [
    "This notebook aims at giving you a first glimpse at python's syntax and its possibilities. This versatile language is widely used, not only for Machine Learning and Data Science in general, but for many other applications, both in the industry and academia, and will be very useful for your career.\n",
    "\n",
    "A more in depth introduction to base Python is already given in parallel in the ongoing course \"Technologies and Architectures for Data\" by Prof. Dimitri Konstantas and Cinzia Tarantino. In this notebook, we will quickly recall the important python data types that you will certainly come across, as well as the syntax for the basic programing principles (loops, conditions, functions, classes). The other notebook available on moodle (`Introduction_to_python_modules.ipynb`) will go a bit more in depth with the essential python modules (libraries), that you will need for this course (and for almost any Data Science project).\n",
    "\n",
    "Depending on your personal programming background and skills, learning a new programming language can be a lot of new information at once. Feel free to go through these notebooks at your pace and multiple times to really understand the concepts shown here through examples that you can run, modify, and play a bit with.\n",
    "\n",
    "If you need further explanations about programming in Python, we can, for example recommend:\n",
    "- https://openclassrooms.com/en/courses/2304731-learn-python-basics-for-data-analysis for Python beginners,\n",
    "- https://jakevdp.github.io/PythonDataScienceHandbook/ a very good book teaching Numpy, Pandas, Matplotlib,\n",
    "- https://www.youtube.com/playlist?list=PL-osiE80TeTsqhIuOqKhwlXsIBIdSeYtc an introduction to object oriented programming (OOP). Note that this goes beyond the level expected for the course.\n",
    "\n",
    "Search engines are also a very useful tool when you will be stuck. The python community is *very* active, you will, in most cases, find a rapid answer to your \"*how to ...*\" questions!\n",
    "Discussing with other students is also highly encouraged, to help each other out and learn in groups (as long as you don't share your final answers for graded materal). And of course, don't hesitate to ask your questions to the TAs when you are stuck."
   ]
  },
  {
   "cell_type": "markdown",
   "metadata": {},
   "source": [
    "## A word on IPython Jupyter notebooks"
   ]
  },
  {
   "cell_type": "markdown",
   "metadata": {},
   "source": [
    "In the Anaconda environment, python code can be run in different manners. One could use simple `*.py` scripts, that can be edited, for example with the Spyder software (Also provided in Anaconda), similarly to `*.R` sripts edited with RStudio.\n",
    "\n",
    "Another way is to use `*.ipynb` notebooks (as the one you are looking at), which come in handy for Data analysis tasks for example, as you can structure and present your projects nicely with comments and written analysis between code cells.\n",
    "\n",
    "In notebooks, both code and markdowns can be run and rendered successively with `Shift` + `Enter`. You can switch a cell from code to markdown by pressing `Esc` and then `M`, or with the menu above. Double click on a rendered markdown (this one, or the title above for example) to edit it.\n",
    "\n",
    "Markdowns are a WYSIWYG (What You See Is What You Get) environment. It is possible for example to use **bold**, *italic*, and `verbatim`.\n",
    "\n",
    "    This is also some verbatim code.\n",
    "    $ echo \"hi\"\n",
    "\n",
    "- This is a list,\n",
    "- with two entries...\n",
    "\n",
    "1. and this a enumerated one,\n",
    "1. with two entries as well.\n",
    "\n",
    "LaTeX code is also possible: $E=mc^2$,\n",
    "$$\n",
    "\\int_{-\\infty}^\\infty f(t) e^{-i\\omega t} dt.\n",
    "$$\n",
    "\n",
    "Feel free to spend some time getting familiar with the environment and to play a bit with the menu above to learn how to create, move, delete cells, and anything else that you would need."
   ]
  },
  {
   "cell_type": "markdown",
   "metadata": {},
   "source": [
    "## Basic data types"
   ]
  },
  {
   "cell_type": "markdown",
   "metadata": {},
   "source": [
    "### Numbers, text and booleans"
   ]
  },
  {
   "cell_type": "markdown",
   "metadata": {},
   "source": [
    "The syntax for the most basic types and for variable attribution is similar to a lot of other (interpreted, non-typed) programming languages you may be familiar with. Here are some examples:"
   ]
  },
  {
   "cell_type": "code",
   "execution_count": 1,
   "metadata": {
    "ExecuteTime": {
     "end_time": "2022-02-23T16:29:42.611761Z",
     "start_time": "2022-02-23T16:29:42.595808Z"
    }
   },
   "outputs": [
    {
     "data": {
      "text/plain": [
       "2"
      ]
     },
     "execution_count": 1,
     "metadata": {},
     "output_type": "execute_result"
    }
   ],
   "source": [
    "some_integer = 2\n",
    "some_integer #(the last called object in the cell is shown in \"Out\")"
   ]
  },
  {
   "cell_type": "code",
   "execution_count": 2,
   "metadata": {
    "ExecuteTime": {
     "end_time": "2022-02-23T16:29:43.290838Z",
     "start_time": "2022-02-23T16:29:43.280896Z"
    }
   },
   "outputs": [
    {
     "name": "stdout",
     "output_type": "stream",
     "text": [
      "integers: 4\n",
      "floats: 12.46 13000.0\n",
      "strings: Hello World!\n",
      "Complex numbers: (4+3j)\n"
     ]
    }
   ],
   "source": [
    "# Other examples printed with the \"print\" function\n",
    "print(\"integers:\", 4)\n",
    "print(\"floats:\", 12.46, 1.3e4)\n",
    "print(\"strings:\", \"Hello World!\")\n",
    "print(\"Complex numbers:\", 4 + 3j)"
   ]
  },
  {
   "cell_type": "code",
   "execution_count": 3,
   "metadata": {
    "ExecuteTime": {
     "end_time": "2022-02-23T16:29:44.137248Z",
     "start_time": "2022-02-23T16:29:44.128005Z"
    }
   },
   "outputs": [
    {
     "name": "stdout",
     "output_type": "stream",
     "text": [
      "Booleans: True False\n",
      "Booleans (2): True\n"
     ]
    }
   ],
   "source": [
    "print(\"Booleans:\", True, False)\n",
    "print(\"Booleans (2):\", (1>2 or 4>=3) )"
   ]
  },
  {
   "cell_type": "code",
   "execution_count": 4,
   "metadata": {
    "ExecuteTime": {
     "end_time": "2022-02-23T16:29:44.827772Z",
     "start_time": "2022-02-23T16:29:44.816827Z"
    }
   },
   "outputs": [
    {
     "name": "stdout",
     "output_type": "stream",
     "text": [
      "Type of 'a' is:\n"
     ]
    },
    {
     "data": {
      "text/plain": [
       "int"
      ]
     },
     "execution_count": 4,
     "metadata": {},
     "output_type": "execute_result"
    }
   ],
   "source": [
    "a=2\n",
    "print(\"Type of 'a' is:\")\n",
    "type(a)"
   ]
  },
  {
   "cell_type": "code",
   "execution_count": 5,
   "metadata": {
    "ExecuteTime": {
     "end_time": "2022-02-23T16:29:45.349562Z",
     "start_time": "2022-02-23T16:29:45.344556Z"
    }
   },
   "outputs": [
    {
     "name": "stdout",
     "output_type": "stream",
     "text": [
      "First Letter of Hello is H\n",
      "Last Letter of Hello is o\n"
     ]
    }
   ],
   "source": [
    "example_string = \"Hello\"\n",
    "print(\"First Letter of\", example_string, \"is\", example_string[0])#Note that indexing starts at 0 in python\n",
    "print(\"Last Letter of\", example_string, \"is\", example_string[-1])# [-1] Accesses the last element of an ennumerable object"
   ]
  },
  {
   "cell_type": "code",
   "execution_count": 6,
   "metadata": {
    "ExecuteTime": {
     "end_time": "2022-02-23T16:29:45.816614Z",
     "start_time": "2022-02-23T16:29:45.806639Z"
    }
   },
   "outputs": [
    {
     "data": {
      "text/plain": [
       "'Hello everyone'"
      ]
     },
     "execution_count": 6,
     "metadata": {},
     "output_type": "execute_result"
    }
   ],
   "source": [
    "combined_string = example_string + \" everyone\"\n",
    "combined_string"
   ]
  },
  {
   "cell_type": "markdown",
   "metadata": {},
   "source": [
    "### Data Containers"
   ]
  },
  {
   "cell_type": "markdown",
   "metadata": {},
   "source": [
    "For sequences, the most used base types are lists:"
   ]
  },
  {
   "cell_type": "code",
   "execution_count": 7,
   "metadata": {
    "ExecuteTime": {
     "end_time": "2022-02-23T16:29:47.260653Z",
     "start_time": "2022-02-23T16:29:47.250692Z"
    }
   },
   "outputs": [
    {
     "data": {
      "text/plain": [
       "[2, 6, 4, 432, 36]"
      ]
     },
     "execution_count": 7,
     "metadata": {},
     "output_type": "execute_result"
    }
   ],
   "source": [
    "my_list = [2, 6, 4, 432, 36]\n",
    "my_list"
   ]
  },
  {
   "cell_type": "code",
   "execution_count": 8,
   "metadata": {
    "ExecuteTime": {
     "end_time": "2022-02-23T16:29:47.736074Z",
     "start_time": "2022-02-23T16:29:47.726101Z"
    }
   },
   "outputs": [
    {
     "data": {
      "text/plain": [
       "[6, 4, 432]"
      ]
     },
     "execution_count": 8,
     "metadata": {},
     "output_type": "execute_result"
    }
   ],
   "source": [
    "my_list[1:4]  #carefull: 1:4 returns the values indexed at 1, 2 and 3 but NOT at 4"
   ]
  },
  {
   "cell_type": "code",
   "execution_count": 9,
   "metadata": {
    "ExecuteTime": {
     "end_time": "2022-02-23T16:29:48.153818Z",
     "start_time": "2022-02-23T16:29:48.145538Z"
    }
   },
   "outputs": [
    {
     "data": {
      "text/plain": [
       "[2, 6, 4, 432, 36, 12]"
      ]
     },
     "execution_count": 9,
     "metadata": {},
     "output_type": "execute_result"
    }
   ],
   "source": [
    "my_list + [12]"
   ]
  },
  {
   "cell_type": "code",
   "execution_count": 10,
   "metadata": {
    "ExecuteTime": {
     "end_time": "2022-02-23T16:29:48.614603Z",
     "start_time": "2022-02-23T16:29:48.608617Z"
    }
   },
   "outputs": [
    {
     "data": {
      "text/plain": [
       "[2, 4, 'sd', True, ['inner', 'list']]"
      ]
     },
     "execution_count": 10,
     "metadata": {},
     "output_type": "execute_result"
    }
   ],
   "source": [
    "[2, 4, \"sd\", True, [\"inner\",\"list\"]] # lists can contain different subtypes, even other lists"
   ]
  },
  {
   "cell_type": "markdown",
   "metadata": {},
   "source": [
    "and \"tuples\" (often returned by functions ,as shown a bit below in the next sections) which are the \"immutable\" version of lists:"
   ]
  },
  {
   "cell_type": "code",
   "execution_count": 11,
   "metadata": {
    "ExecuteTime": {
     "end_time": "2022-02-23T16:29:49.709110Z",
     "start_time": "2022-02-23T16:29:49.698140Z"
    }
   },
   "outputs": [
    {
     "data": {
      "text/plain": [
       "(2, 56, 3)"
      ]
     },
     "execution_count": 11,
     "metadata": {},
     "output_type": "execute_result"
    }
   ],
   "source": [
    "my_tuple = (2,56,3)\n",
    "my_tuple"
   ]
  },
  {
   "cell_type": "code",
   "execution_count": 12,
   "metadata": {
    "ExecuteTime": {
     "end_time": "2022-02-23T16:29:50.250720Z",
     "start_time": "2022-02-23T16:29:50.240756Z"
    }
   },
   "outputs": [
    {
     "data": {
      "text/plain": [
       "(4,)"
      ]
     },
     "execution_count": 12,
     "metadata": {},
     "output_type": "execute_result"
    }
   ],
   "source": [
    "my_1D_tuple = (4,)\n",
    "my_1D_tuple"
   ]
  },
  {
   "cell_type": "markdown",
   "metadata": {},
   "source": [
    "There are also sets (any value can appear only once):"
   ]
  },
  {
   "cell_type": "code",
   "execution_count": 13,
   "metadata": {
    "ExecuteTime": {
     "end_time": "2022-02-23T16:29:51.290630Z",
     "start_time": "2022-02-23T16:29:51.280676Z"
    }
   },
   "outputs": [
    {
     "data": {
      "text/plain": [
       "{12, 'w'}"
      ]
     },
     "execution_count": 13,
     "metadata": {},
     "output_type": "execute_result"
    }
   ],
   "source": [
    "my_set = {12, \"w\", 12}\n",
    "my_set"
   ]
  },
  {
   "cell_type": "markdown",
   "metadata": {},
   "source": [
    "and dictionaries, that can be seen as named lists:"
   ]
  },
  {
   "cell_type": "code",
   "execution_count": 14,
   "metadata": {
    "ExecuteTime": {
     "end_time": "2022-02-23T16:29:52.871584Z",
     "start_time": "2022-02-23T16:29:52.861604Z"
    }
   },
   "outputs": [
    {
     "data": {
      "text/plain": [
       "{'name': 'Sophie', 'Age': 23, 'Passions': ['Tennis', 'Machine Learning']}"
      ]
     },
     "execution_count": 14,
     "metadata": {},
     "output_type": "execute_result"
    }
   ],
   "source": [
    "my_dict = {\"name\": \"Sophie\",\n",
    "           \"Age\": 23,\n",
    "           \"Passions\": [\"Tennis\", \"Machine Learning\"]}\n",
    "my_dict"
   ]
  },
  {
   "cell_type": "code",
   "execution_count": 15,
   "metadata": {
    "ExecuteTime": {
     "end_time": "2022-02-23T16:29:53.350746Z",
     "start_time": "2022-02-23T16:29:53.344752Z"
    }
   },
   "outputs": [
    {
     "data": {
      "text/plain": [
       "23"
      ]
     },
     "execution_count": 15,
     "metadata": {},
     "output_type": "execute_result"
    }
   ],
   "source": [
    "my_dict[\"Age\"]"
   ]
  },
  {
   "cell_type": "markdown",
   "metadata": {},
   "source": [
    "## Programming principles"
   ]
  },
  {
   "cell_type": "markdown",
   "metadata": {},
   "source": [
    "In python, loops, conditions et function definitions use colons (:) and tabulation instead of brackets, which are used in some other languages (like R)."
   ]
  },
  {
   "cell_type": "markdown",
   "metadata": {},
   "source": [
    "### Loops"
   ]
  },
  {
   "cell_type": "markdown",
   "metadata": {},
   "source": [
    "Here are some useful examples of some for loops:"
   ]
  },
  {
   "cell_type": "code",
   "execution_count": 16,
   "metadata": {
    "ExecuteTime": {
     "end_time": "2022-02-23T16:29:55.128691Z",
     "start_time": "2022-02-23T16:29:55.117729Z"
    }
   },
   "outputs": [
    {
     "name": "stdout",
     "output_type": "stream",
     "text": [
      "0 * 2 = 0\n",
      "1 * 2 = 2\n",
      "2 * 2 = 4\n",
      "3 * 2 = 6\n"
     ]
    }
   ],
   "source": [
    "for i in range(0,4):\n",
    "    temp = i*2\n",
    "    print(i, \"* 2 =\", temp)"
   ]
  },
  {
   "cell_type": "code",
   "execution_count": 17,
   "metadata": {
    "ExecuteTime": {
     "end_time": "2022-02-23T16:29:55.466817Z",
     "start_time": "2022-02-23T16:29:55.456842Z"
    }
   },
   "outputs": [
    {
     "name": "stdout",
     "output_type": "stream",
     "text": [
      "3 6\n"
     ]
    }
   ],
   "source": [
    "# Note that the scope of variable transcends loops in python,\n",
    "# e.g., we can access the enumeration index and variables defined inside of the loop, outside of it:\n",
    "print(i, temp)"
   ]
  },
  {
   "cell_type": "code",
   "execution_count": 20,
   "metadata": {
    "ExecuteTime": {
     "end_time": "2022-02-23T16:29:55.813846Z",
     "start_time": "2022-02-23T16:29:55.808889Z"
    }
   },
   "outputs": [
    {
     "name": "stdout",
     "output_type": "stream",
     "text": [
      "0 - a\n",
      "1 - b\n",
      "2 - c\n"
     ]
    }
   ],
   "source": [
    "list_to_enumerate_on = [\"a\", \"b\", \"c\"]\n",
    "\n",
    "for i, el in enumerate(list_to_enumerate_on):\n",
    "    print(i, \"-\", el)"
   ]
  },
  {
   "cell_type": "code",
   "execution_count": 21,
   "metadata": {
    "ExecuteTime": {
     "end_time": "2022-02-23T16:29:56.201018Z",
     "start_time": "2022-02-23T16:29:56.190046Z"
    }
   },
   "outputs": [
    {
     "name": "stdout",
     "output_type": "stream",
     "text": [
      "0\n",
      "1\n",
      "2\n"
     ]
    }
   ],
   "source": [
    "# a dumy while loop (for syntax would be preferable here)\n",
    "i=0\n",
    "while(i<3):\n",
    "    print(i)\n",
    "    i = i+1"
   ]
  },
  {
   "cell_type": "markdown",
   "metadata": {},
   "source": [
    "In some cases, simple for loops can be written in a single line list syntax in python, which can come in pretty handy sometimes. Here is an example:"
   ]
  },
  {
   "cell_type": "code",
   "execution_count": 22,
   "metadata": {
    "ExecuteTime": {
     "end_time": "2022-02-23T16:29:56.947284Z",
     "start_time": "2022-02-23T16:29:56.941307Z"
    }
   },
   "outputs": [
    {
     "data": {
      "text/plain": [
       "[4, 12, 8]"
      ]
     },
     "execution_count": 22,
     "metadata": {},
     "output_type": "execute_result"
    }
   ],
   "source": [
    "my_list2 = [2, 6, 4]\n",
    "one_line_loop_result = [i * 2 for i in my_list2]\n",
    "one_line_loop_result"
   ]
  },
  {
   "cell_type": "markdown",
   "metadata": {},
   "source": [
    "### Conditions"
   ]
  },
  {
   "cell_type": "markdown",
   "metadata": {},
   "source": [
    "If - else conditions are pretty straight forward:"
   ]
  },
  {
   "cell_type": "code",
   "execution_count": 23,
   "metadata": {
    "ExecuteTime": {
     "end_time": "2022-02-23T16:29:58.061492Z",
     "start_time": "2022-02-23T16:29:58.049525Z"
    }
   },
   "outputs": [
    {
     "name": "stdout",
     "output_type": "stream",
     "text": [
      "4 is NOT greater than 35\n"
     ]
    }
   ],
   "source": [
    "cond = 4 > 35\n",
    "\n",
    "if (cond):\n",
    "    print(\"4 is greater than 35\")\n",
    "else:\n",
    "    print(\"4 is NOT greater than 35\")\n",
    "        "
   ]
  },
  {
   "cell_type": "code",
   "execution_count": 24,
   "metadata": {
    "ExecuteTime": {
     "end_time": "2022-02-23T16:29:58.377996Z",
     "start_time": "2022-02-23T16:29:58.368056Z"
    }
   },
   "outputs": [
    {
     "name": "stdout",
     "output_type": "stream",
     "text": [
      "35 is greater than 4\n"
     ]
    }
   ],
   "source": [
    "if (4 > 35):\n",
    "    print(\"4 is greater than 35\")\n",
    "    \n",
    "elif (4 == 35):\n",
    "    print(\"4 equals 35\")\n",
    "        \n",
    "else:\n",
    "    print(\"35 is greater than 4\")"
   ]
  },
  {
   "cell_type": "markdown",
   "metadata": {},
   "source": [
    "Conditions can also be added to one line for loops. Here are two examples for the same one-line loop as above:"
   ]
  },
  {
   "cell_type": "code",
   "execution_count": 25,
   "metadata": {
    "ExecuteTime": {
     "end_time": "2022-02-23T16:29:59.143622Z",
     "start_time": "2022-02-23T16:29:59.133648Z"
    }
   },
   "outputs": [
    {
     "data": {
      "text/plain": [
       "[4, 8]"
      ]
     },
     "execution_count": 25,
     "metadata": {},
     "output_type": "execute_result"
    }
   ],
   "source": [
    "my_list2 = [2, 6, 4]\n",
    "one_line_loop_result = [i * 2 for i in my_list2 if i <= 5]\n",
    "one_line_loop_result"
   ]
  },
  {
   "cell_type": "code",
   "execution_count": 26,
   "metadata": {
    "ExecuteTime": {
     "end_time": "2022-02-23T16:29:59.544914Z",
     "start_time": "2022-02-23T16:29:59.533926Z"
    }
   },
   "outputs": [
    {
     "data": {
      "text/plain": [
       "[4, 'exception', 8]"
      ]
     },
     "execution_count": 26,
     "metadata": {},
     "output_type": "execute_result"
    }
   ],
   "source": [
    "my_list2 = [2, 6, 4]\n",
    "one_line_loop_result = [i * 2 if (i <= 5) else \"exception\" for i in my_list2]\n",
    "one_line_loop_result"
   ]
  },
  {
   "cell_type": "markdown",
   "metadata": {},
   "source": [
    "### User defined functions"
   ]
  },
  {
   "cell_type": "markdown",
   "metadata": {},
   "source": [
    "Functions are very usefull for modularity and code clarity. Especially if there a task is repeated more than once, a function is always better than repeating code!"
   ]
  },
  {
   "cell_type": "markdown",
   "metadata": {},
   "source": [
    "One can define a python function and use it, for example, in the following way:"
   ]
  },
  {
   "cell_type": "code",
   "execution_count": 27,
   "metadata": {
    "ExecuteTime": {
     "end_time": "2022-02-23T16:30:00.801793Z",
     "start_time": "2022-02-23T16:30:00.796808Z"
    }
   },
   "outputs": [],
   "source": [
    "def my_function(a, b, c):\n",
    "    \"\"\"\n",
    "    Short description of the function 1.\n",
    "    \"\"\"\n",
    "    result = (a + b) / c\n",
    "    return(result)"
   ]
  },
  {
   "cell_type": "code",
   "execution_count": 28,
   "metadata": {
    "ExecuteTime": {
     "end_time": "2022-02-23T16:30:01.175033Z",
     "start_time": "2022-02-23T16:30:01.164854Z"
    }
   },
   "outputs": [
    {
     "data": {
      "text/plain": [
       "5.0"
      ]
     },
     "execution_count": 28,
     "metadata": {},
     "output_type": "execute_result"
    }
   ],
   "source": [
    "fct_result = my_function(3, 7, 2)\n",
    "fct_result"
   ]
  },
  {
   "cell_type": "markdown",
   "metadata": {},
   "source": [
    "Multiple outputs are possible (returning tuples):"
   ]
  },
  {
   "cell_type": "code",
   "execution_count": 29,
   "metadata": {
    "ExecuteTime": {
     "end_time": "2022-02-23T16:30:02.305426Z",
     "start_time": "2022-02-23T16:30:02.301433Z"
    }
   },
   "outputs": [],
   "source": [
    "def my_multi_function(a, b, c):\n",
    "    \"\"\"\n",
    "    Short description of the function 2.\n",
    "    \"\"\"\n",
    "    result1 = (a + b) / c\n",
    "    result2 = (a - b) / c\n",
    "    \n",
    "    return(result1, result2)"
   ]
  },
  {
   "cell_type": "code",
   "execution_count": 30,
   "metadata": {
    "ExecuteTime": {
     "end_time": "2022-02-23T16:30:02.597259Z",
     "start_time": "2022-02-23T16:30:02.591275Z"
    }
   },
   "outputs": [
    {
     "data": {
      "text/plain": [
       "(5.0, -2.0)"
      ]
     },
     "execution_count": 30,
     "metadata": {},
     "output_type": "execute_result"
    }
   ],
   "source": [
    "fct_result2 = my_multi_function(3, 7, 2)\n",
    "fct_result2"
   ]
  },
  {
   "cell_type": "markdown",
   "metadata": {},
   "source": [
    "The outputs can directly be stored in separate variables:"
   ]
  },
  {
   "cell_type": "code",
   "execution_count": 31,
   "metadata": {
    "ExecuteTime": {
     "end_time": "2022-02-23T16:30:03.110584Z",
     "start_time": "2022-02-23T16:30:03.101577Z"
    }
   },
   "outputs": [
    {
     "name": "stdout",
     "output_type": "stream",
     "text": [
      "5.0\n",
      "-2.0\n"
     ]
    }
   ],
   "source": [
    "res1, res2 = my_multi_function(3, 7, 2)\n",
    "print(res1)\n",
    "print(res2)"
   ]
  },
  {
   "cell_type": "markdown",
   "metadata": {},
   "source": [
    "Separating your code in different meaningful functions is in general very recommended, as it makes your code clearer, cleaner, and helps avoiding copy-pasting (which is a very bad coding practice, as it is very error-prone once something that has been copy-pasted needs modifications)."
   ]
  },
  {
   "cell_type": "markdown",
   "metadata": {},
   "source": [
    "As for lists, functions can be defined in a one-line manner in python, with `lambda`:"
   ]
  },
  {
   "cell_type": "code",
   "execution_count": 32,
   "metadata": {
    "ExecuteTime": {
     "end_time": "2022-02-23T16:30:04.200963Z",
     "start_time": "2022-02-23T16:30:04.190994Z"
    }
   },
   "outputs": [
    {
     "data": {
      "text/plain": [
       "25"
      ]
     },
     "execution_count": 32,
     "metadata": {},
     "output_type": "execute_result"
    }
   ],
   "source": [
    "one_line_fct = lambda x, y: (x+y)**2\n",
    "one_line_fct(2,3)"
   ]
  },
  {
   "cell_type": "markdown",
   "metadata": {},
   "source": [
    "## Python modules (libraries)"
   ]
  },
  {
   "cell_type": "markdown",
   "metadata": {},
   "source": [
    "You can import python libraries with the `import` command, for example, the numpy module can be imported as follows:"
   ]
  },
  {
   "cell_type": "code",
   "execution_count": 33,
   "metadata": {
    "ExecuteTime": {
     "end_time": "2022-02-23T16:30:05.241704Z",
     "start_time": "2022-02-23T16:30:05.232734Z"
    }
   },
   "outputs": [],
   "source": [
    "import numpy"
   ]
  },
  {
   "cell_type": "markdown",
   "metadata": {},
   "source": [
    "Then, the module's variables, functions, classes, ... can be accessed with the dot (.):"
   ]
  },
  {
   "cell_type": "code",
   "execution_count": 34,
   "metadata": {
    "ExecuteTime": {
     "end_time": "2022-02-23T16:30:06.014270Z",
     "start_time": "2022-02-23T16:30:06.001318Z"
    }
   },
   "outputs": [
    {
     "data": {
      "text/plain": [
       "array([1, 2])"
      ]
     },
     "execution_count": 34,
     "metadata": {},
     "output_type": "execute_result"
    }
   ],
   "source": [
    "numpy.array([1,2]) # This creates a numpy array (more details in the other notebook on modules)"
   ]
  },
  {
   "cell_type": "markdown",
   "metadata": {},
   "source": [
    "Module imports can be given aliases, for example, numpy is more often imported as:"
   ]
  },
  {
   "cell_type": "code",
   "execution_count": 35,
   "metadata": {
    "ExecuteTime": {
     "end_time": "2022-02-23T16:30:06.730367Z",
     "start_time": "2022-02-23T16:30:06.720393Z"
    }
   },
   "outputs": [],
   "source": [
    "import numpy as np"
   ]
  },
  {
   "cell_type": "markdown",
   "metadata": {},
   "source": [
    "Then, for example, the same line as above becomes:"
   ]
  },
  {
   "cell_type": "code",
   "execution_count": 36,
   "metadata": {
    "ExecuteTime": {
     "end_time": "2022-02-23T16:30:07.400574Z",
     "start_time": "2022-02-23T16:30:07.390599Z"
    }
   },
   "outputs": [
    {
     "data": {
      "text/plain": [
       "array([1, 2, 3])"
      ]
     },
     "execution_count": 36,
     "metadata": {},
     "output_type": "execute_result"
    }
   ],
   "source": [
    "np.array([1,2,3])"
   ]
  },
  {
   "cell_type": "markdown",
   "metadata": {},
   "source": [
    "another example, with the \"random\" sub-module of numpy:"
   ]
  },
  {
   "cell_type": "code",
   "execution_count": 37,
   "metadata": {
    "ExecuteTime": {
     "end_time": "2022-02-23T16:30:08.056147Z",
     "start_time": "2022-02-23T16:30:08.042184Z"
    }
   },
   "outputs": [
    {
     "data": {
      "text/plain": [
       "array([0.20706094, 1.3696847 ])"
      ]
     },
     "execution_count": 37,
     "metadata": {},
     "output_type": "execute_result"
    }
   ],
   "source": [
    "np.random.randn(2) #gaussian sample of size 2, from numpy's 'random' submodule"
   ]
  },
  {
   "cell_type": "markdown",
   "metadata": {},
   "source": [
    "One can import only specific function or submodules in the main namespace. For the same examples:"
   ]
  },
  {
   "cell_type": "code",
   "execution_count": 38,
   "metadata": {
    "ExecuteTime": {
     "end_time": "2022-02-23T16:30:08.914879Z",
     "start_time": "2022-02-23T16:30:08.910923Z"
    }
   },
   "outputs": [],
   "source": [
    "from numpy import array, random"
   ]
  },
  {
   "cell_type": "code",
   "execution_count": 39,
   "metadata": {
    "ExecuteTime": {
     "end_time": "2022-02-23T16:30:09.335637Z",
     "start_time": "2022-02-23T16:30:09.326630Z"
    }
   },
   "outputs": [
    {
     "data": {
      "text/plain": [
       "array([1, 2])"
      ]
     },
     "execution_count": 39,
     "metadata": {},
     "output_type": "execute_result"
    }
   ],
   "source": [
    "array([1, 2])"
   ]
  },
  {
   "cell_type": "code",
   "execution_count": 40,
   "metadata": {
    "ExecuteTime": {
     "end_time": "2022-02-23T16:30:09.715984Z",
     "start_time": "2022-02-23T16:30:09.709985Z"
    }
   },
   "outputs": [
    {
     "data": {
      "text/plain": [
       "array([-1.88849777,  0.1974891 ])"
      ]
     },
     "execution_count": 40,
     "metadata": {},
     "output_type": "execute_result"
    }
   ],
   "source": [
    "random.randn(2)"
   ]
  },
  {
   "cell_type": "markdown",
   "metadata": {},
   "source": [
    "It is also possible to import everything from a module into the main namespace, although it is really not recommended, especially for big modules as numpy, as functions can overlap with existing ones. It is thus better to use each module in their own namespace separately as above (e.g. with `import numpy as np`)."
   ]
  },
  {
   "cell_type": "code",
   "execution_count": null,
   "metadata": {
    "ExecuteTime": {
     "end_time": "2022-02-23T16:30:10.999727Z",
     "start_time": "2022-02-23T16:30:10.990739Z"
    }
   },
   "outputs": [],
   "source": [
    "# !! NOT RECOMMENDED !!\n",
    "\n",
    "#from numpy import *"
   ]
  },
  {
   "cell_type": "markdown",
   "metadata": {},
   "source": [
    "Although this can be useful to import functions from a custom created file. Suppose we have a script containing some functions in the same folder as this notebook, named `my_functions.py` then you can import these functions with:\n",
    "\n",
    "    from my_functions import *"
   ]
  },
  {
   "cell_type": "markdown",
   "metadata": {},
   "source": [
    "The notebook `Introduction_to_python_modules.ipynb` available on moodle introduces some important python modules that are widely used for many (if not all) data-related applications: `numpy`, `pandas`, `matplotlib` and `scikit-learn`."
   ]
  },
  {
   "cell_type": "markdown",
   "metadata": {},
   "source": [
    "## Introduction to object-oriented programming"
   ]
  },
  {
   "cell_type": "markdown",
   "metadata": {},
   "source": [
    "Python is an object-oriented language. OOP is a very powerful coding paradigm that is widely used in many languages. It helps structuring the code around objects, and makes, arguably, the code much cleaner and clearer to read and conceptualize. It also makes it easier to model concrete real-world concepts into code. Many python modules are centered around this principle.\n",
    "\n",
    "Formally, in OOP, we can define what we call **classes**. A class is like a blueprint that describes an object. Such an object can have (among other things):\n",
    "- properties (that we call **attributes**) which are inner variables of the objects, containing data, and\n",
    "- behaviours (that we call **methods**) that are inner functions of the objects.\n",
    "\n",
    "For example, let's say that we want to define a class that represents dogs. Then its attibutes could be: its name, its age, its weight, its color, etc... and its methods could be: to bark, to run, to bathe, etc...\n",
    "\n",
    "Once we defined a class (i.e. the blueprint with its corresponding attributes and methods), we can create actual objects (that we call **instances**) from this \"blueprint\".\n",
    "\n",
    "You are not required to know how to define classes for this course, but we believe that some OOP notions will help you better understand what you are actually doing when you use this course's required modules, like `scickit-learn` and `pandas`, that are designed around this paradigm."
   ]
  },
  {
   "cell_type": "markdown",
   "metadata": {},
   "source": [
    "For example, we could create the class dog as follows:"
   ]
  },
  {
   "cell_type": "code",
   "execution_count": 41,
   "metadata": {
    "ExecuteTime": {
     "end_time": "2022-02-23T16:30:13.635843Z",
     "start_time": "2022-02-23T16:30:13.629860Z"
    }
   },
   "outputs": [],
   "source": [
    "# ( This cell is a bit more advanced, you might skip the details as long as you understand the main idea )\n",
    "class Dog:\n",
    "    def __init__(self, name, age):\n",
    "        #This method is called to initialize the instance when created from the class\n",
    "        #Here we can define the atributes of the class\n",
    "        self.name = name\n",
    "        self.age = age\n",
    "        self.dirty = False\n",
    "    \n",
    "    # Below are the other methods of the class\n",
    "    \n",
    "    def bark(self):\n",
    "        print(self.name, \"says 'Waf, Waf!'\")\n",
    "    \n",
    "    def run(self, nb_meters):\n",
    "        # If the Dog runs more than 100 meters, it gets dirty.\n",
    "        if(nb_meters >= 100):\n",
    "            print(\"I am dirty.\")\n",
    "            self.dirty = True\n",
    "    \n",
    "    def bathe(self):\n",
    "        print(\"I am clean.\")\n",
    "        self.dirty = False\n",
    "    \n",
    "    def get_stick(self):\n",
    "        # The Dog returns a wild stick\n",
    "        return(\"stick\")"
   ]
  },
  {
   "cell_type": "markdown",
   "metadata": {},
   "source": [
    "We can then instantiate a dog from the class (i.e. create a dog from the blueprint):"
   ]
  },
  {
   "cell_type": "code",
   "execution_count": 42,
   "metadata": {
    "ExecuteTime": {
     "end_time": "2022-02-23T16:30:14.537933Z",
     "start_time": "2022-02-23T16:30:14.533910Z"
    }
   },
   "outputs": [],
   "source": [
    "dog1 = Dog(name = \"Johnny\", age = 8)"
   ]
  },
  {
   "cell_type": "markdown",
   "metadata": {},
   "source": [
    "Wow, `dog1` is now a `Dog` called Johnny of age 8 which is clean (by default). We can then use its attributes and methods (that might modify some aspects of Johnny). Here are a few examples:"
   ]
  },
  {
   "cell_type": "code",
   "execution_count": 43,
   "metadata": {
    "ExecuteTime": {
     "end_time": "2022-02-23T16:30:15.259718Z",
     "start_time": "2022-02-23T16:30:15.249708Z"
    }
   },
   "outputs": [
    {
     "data": {
      "text/plain": [
       "'Johnny'"
      ]
     },
     "execution_count": 43,
     "metadata": {},
     "output_type": "execute_result"
    }
   ],
   "source": [
    "dog1.name"
   ]
  },
  {
   "cell_type": "code",
   "execution_count": 44,
   "metadata": {
    "ExecuteTime": {
     "end_time": "2022-02-23T16:30:15.592125Z",
     "start_time": "2022-02-23T16:30:15.582147Z"
    }
   },
   "outputs": [
    {
     "data": {
      "text/plain": [
       "False"
      ]
     },
     "execution_count": 44,
     "metadata": {},
     "output_type": "execute_result"
    }
   ],
   "source": [
    "dog1.dirty"
   ]
  },
  {
   "cell_type": "code",
   "execution_count": 45,
   "metadata": {
    "ExecuteTime": {
     "end_time": "2022-02-23T16:30:15.863609Z",
     "start_time": "2022-02-23T16:30:15.853635Z"
    }
   },
   "outputs": [
    {
     "name": "stdout",
     "output_type": "stream",
     "text": [
      "Johnny says 'Waf, Waf!'\n"
     ]
    }
   ],
   "source": [
    "dog1.bark()"
   ]
  },
  {
   "cell_type": "code",
   "execution_count": 46,
   "metadata": {
    "ExecuteTime": {
     "end_time": "2022-02-23T16:30:16.119375Z",
     "start_time": "2022-02-23T16:30:16.110434Z"
    }
   },
   "outputs": [],
   "source": [
    "dog1.run(nb_meters=3)"
   ]
  },
  {
   "cell_type": "code",
   "execution_count": 47,
   "metadata": {
    "ExecuteTime": {
     "end_time": "2022-02-23T16:30:16.343225Z",
     "start_time": "2022-02-23T16:30:16.332275Z"
    }
   },
   "outputs": [
    {
     "data": {
      "text/plain": [
       "False"
      ]
     },
     "execution_count": 47,
     "metadata": {},
     "output_type": "execute_result"
    }
   ],
   "source": [
    "dog1.dirty"
   ]
  },
  {
   "cell_type": "code",
   "execution_count": 48,
   "metadata": {
    "ExecuteTime": {
     "end_time": "2022-02-23T16:30:16.567509Z",
     "start_time": "2022-02-23T16:30:16.557534Z"
    }
   },
   "outputs": [
    {
     "name": "stdout",
     "output_type": "stream",
     "text": [
      "I am dirty.\n"
     ]
    }
   ],
   "source": [
    "dog1.run(nb_meters=112)"
   ]
  },
  {
   "cell_type": "code",
   "execution_count": 49,
   "metadata": {
    "ExecuteTime": {
     "end_time": "2022-02-23T16:30:16.794845Z",
     "start_time": "2022-02-23T16:30:16.781837Z"
    }
   },
   "outputs": [
    {
     "data": {
      "text/plain": [
       "True"
      ]
     },
     "execution_count": 49,
     "metadata": {},
     "output_type": "execute_result"
    }
   ],
   "source": [
    "dog1.dirty"
   ]
  },
  {
   "cell_type": "code",
   "execution_count": 50,
   "metadata": {
    "ExecuteTime": {
     "end_time": "2022-02-23T16:30:16.993823Z",
     "start_time": "2022-02-23T16:30:16.989804Z"
    }
   },
   "outputs": [
    {
     "name": "stdout",
     "output_type": "stream",
     "text": [
      "I am clean.\n"
     ]
    }
   ],
   "source": [
    "dog1.bathe()"
   ]
  },
  {
   "cell_type": "code",
   "execution_count": 51,
   "metadata": {
    "ExecuteTime": {
     "end_time": "2022-02-23T16:30:17.220406Z",
     "start_time": "2022-02-23T16:30:17.215415Z"
    }
   },
   "outputs": [
    {
     "data": {
      "text/plain": [
       "False"
      ]
     },
     "execution_count": 51,
     "metadata": {},
     "output_type": "execute_result"
    }
   ],
   "source": [
    "dog1.dirty"
   ]
  },
  {
   "cell_type": "code",
   "execution_count": 52,
   "metadata": {
    "ExecuteTime": {
     "end_time": "2022-02-23T16:30:17.448605Z",
     "start_time": "2022-02-23T16:30:17.437634Z"
    }
   },
   "outputs": [
    {
     "data": {
      "text/plain": [
       "'stick'"
      ]
     },
     "execution_count": 52,
     "metadata": {},
     "output_type": "execute_result"
    }
   ],
   "source": [
    "surprise = dog1.get_stick() #Johnny got you a surprise\n",
    "surprise"
   ]
  },
  {
   "cell_type": "code",
   "execution_count": 53,
   "metadata": {
    "ExecuteTime": {
     "end_time": "2022-02-23T16:30:17.795030Z",
     "start_time": "2022-02-23T16:30:17.791045Z"
    }
   },
   "outputs": [],
   "source": [
    "dog1.name = \"Jean-Claude\" #dog1 changes its name\n",
    "\n",
    "#(defining a method change_name() would be cleaner than modifying the attribute directly like that)"
   ]
  },
  {
   "cell_type": "code",
   "execution_count": 54,
   "metadata": {
    "ExecuteTime": {
     "end_time": "2022-02-23T16:30:18.060042Z",
     "start_time": "2022-02-23T16:30:18.051059Z"
    }
   },
   "outputs": [
    {
     "data": {
      "text/plain": [
       "'Jean-Claude'"
      ]
     },
     "execution_count": 54,
     "metadata": {},
     "output_type": "execute_result"
    }
   ],
   "source": [
    "dog1.name"
   ]
  },
  {
   "cell_type": "markdown",
   "metadata": {},
   "source": [
    "The example above is maybe simpler in comparison, but you are conceptually doing the same things when you deal with `pandas` or `sklearn`, as `DataFrame` and any machine learning models are defined as classes, that you use instances of, and call methods from, with the same syntax as above.\n",
    "\n",
    "You can now read again the notebook `Introduction_to_python_modules.ipynb`, where you should be able to understand more easily what the syntax actually means in terms of attributes, methods classes and instances, especially for the `pandas` and `sklearn` parts.\n",
    "\n",
    "Note that, in `numpy` and `pandas` for example, some methods aiming at changing the data or data structure of a class instance (an array or  DataFrame, respectively) are not \"*in place*\". This means that the methods return the modified object (e.g. `reshaped_array = some_np_array.reshape(2,3)`) instead of modifying the instance itself (as in `dog1.bathe()` above). This behaviour can be controlled in some `pandas` methods with the `inplace = True/False` argument (e.g `df.drop(\"row_name\", inplace=True)` actually removes a row from `df`, whereas `df2 = df.drop(\"row_name\")` returns `df` without the specified row into `df2`)."
   ]
  }
 ],
 "metadata": {
  "kernelspec": {
   "display_name": "Python 3 (ipykernel)",
   "language": "python",
   "name": "python3"
  },
  "language_info": {
   "codemirror_mode": {
    "name": "ipython",
    "version": 3
   },
   "file_extension": ".py",
   "mimetype": "text/x-python",
   "name": "python",
   "nbconvert_exporter": "python",
   "pygments_lexer": "ipython3",
   "version": "3.9.7"
  },
  "latex_envs": {
   "LaTeX_envs_menu_present": true,
   "autoclose": false,
   "autocomplete": true,
   "bibliofile": "biblio.bib",
   "cite_by": "apalike",
   "current_citInitial": 1,
   "eqLabelWithNumbers": true,
   "eqNumInitial": 1,
   "hotkeys": {
    "equation": "Ctrl-E",
    "itemize": "Ctrl-I"
   },
   "labels_anchors": false,
   "latex_user_defs": false,
   "report_style_numbering": false,
   "user_envs_cfg": false
  },
  "toc": {
   "base_numbering": 1,
   "nav_menu": {
    "height": "375px",
    "width": "308px"
   },
   "number_sections": true,
   "sideBar": true,
   "skip_h1_title": true,
   "title_cell": "Table of Contents",
   "title_sidebar": "Contents",
   "toc_cell": false,
   "toc_position": {
    "height": "calc(100% - 180px)",
    "left": "10px",
    "top": "150px",
    "width": "209px"
   },
   "toc_section_display": true,
   "toc_window_display": true
  },
  "varInspector": {
   "cols": {
    "lenName": 16,
    "lenType": 16,
    "lenVar": 40
   },
   "kernels_config": {
    "python": {
     "delete_cmd_postfix": "",
     "delete_cmd_prefix": "del ",
     "library": "var_list.py",
     "varRefreshCmd": "print(var_dic_list())"
    },
    "r": {
     "delete_cmd_postfix": ") ",
     "delete_cmd_prefix": "rm(",
     "library": "var_list.r",
     "varRefreshCmd": "cat(var_dic_list()) "
    }
   },
   "types_to_exclude": [
    "module",
    "function",
    "builtin_function_or_method",
    "instance",
    "_Feature"
   ],
   "window_display": false
  }
 },
 "nbformat": 4,
 "nbformat_minor": 4
}
